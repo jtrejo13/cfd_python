{
 "cells": [
  {
   "cell_type": "markdown",
   "metadata": {},
   "source": [
    "# Step 4: Burgers' Equation\n",
    "\n",
    "Burgers' equation in one spatial dimension looks like this:\n",
    "\n",
    "$$\n",
    "\\frac{\\partial u}{\\partial t} + u\\frac{\\partial u}{\\partial x} = \\nu\\frac{\\partial^2u}{\\partial x^2}\n",
    "$$\n",
    "\n",
    "As it can be seen, it is a combination of non-linear convection and diffusion. It is surprising how much can be learned from this 'simple' equation.\n",
    "\n",
    "We can discretize it using the methods detailed in Steps 1-3. Using forward difference for time, backward difference for space and the 2nd-order method for the second derivatives. This yields:\n",
    "\n",
    "$$\n",
    "\\frac{u_i^{n+1}-u_i^n}{\\Delta t} + u_i^n \\frac{u_i^n - u_{i-1}^n}{\\Delta x} = \\nu \\frac{u_{i+1}^n - 2u_i^n + u_{i-1}^n}{\\Delta x^2}\n",
    "$$\n",
    "\n",
    "As before, once we have an initial condition, the only unknown is $u_i^{n+1}$. We will step in time as follows:\n",
    "\n",
    "$$\n",
    "u_i^{n+1} = u_i^n - u_i^n \\frac{\\Delta t}{\\Delta x} (u_i^n - u_{i-1}^n) + \\nu \\frac{\\Delta t}{\\Delta x^2}(u_{i+1}^n - 2u_i^n + u_{i-1}^n)\n",
    "$$"
   ]
  },
  {
   "cell_type": "markdown",
   "metadata": {},
   "source": [
    "## Initial and Boundary Conditions\n",
    "\n",
    "To examine some interesting properties of Burgers' equation, it is helpful to use different initial and boundary conditions that we've been using for previous steps.\n",
    "\n",
    "Our initial condition for this problem is going to be:\n",
    "\n",
    "$$\n",
    "u = -\\frac{2 \\nu}{\\phi} \\frac{\\partial \\phi}{\\partial x} + 4\n",
    "$$\n",
    "\n",
    "$$\n",
    "\\phi = \\exp \\bigg(\\frac{-x^2}{4\\nu} \\bigg) + \\exp \\bigg(\\frac{-(x-2\\pi)^2}{4\\nu} \\bigg)\n",
    "$$\n",
    "\n",
    "This has an analytical solution, given by:\n",
    "\n",
    "$$\n",
    "u = -\\frac{2 \\nu}{\\phi} \\frac{\\partial \\phi}{\\partial x} + 4\n",
    "$$\n",
    "\n",
    "$$\n",
    "\\phi = \\exp \\bigg(\\frac{-(x-4t)^2}{4\\nu(t+1)} \\bigg) + \\exp \\bigg(\\frac{-(x-4t-2\\pi)^2}{4\\nu(t+1)} \\bigg)\n",
    "$$\n",
    "\n",
    "Our boundary condition will be:\n",
    "\n",
    "$$\n",
    "u(0) = u(2\\pi)\n",
    "$$\n",
    "\n",
    "This is called a *periodic* boundary condition. **Pay attention!** This will cause you a bit of headache if you don't tread carefully."
   ]
  },
  {
   "cell_type": "markdown",
   "metadata": {},
   "source": [
    "## Saving Time with SymPy\n",
    "\n",
    "The initial condition we're using for Burgers' Equation can be a bit of a pain to evaluate by hand. The derivative $\\frac{\\partial\\phi}{\\partial x}$ isn't too terribly difficult, but it would be easy to drop a sign or forget a factor of $x$ somewhere, so we're going to use SymPy to help us out.\n",
    "\n",
    "[SymPy](http://www.sympy.org/en/) is the symbolic math library for Python. It has a lot of the same symbolic math functionality as Mathematica with the added benefit that we can easily translate its results back into our Python calculations (it is also free and open source)."
   ]
  },
  {
   "cell_type": "markdown",
   "metadata": {},
   "source": [
    "## Imports\n",
    "\n",
    "We're going to tell Sympy that we want all of it's output rendered using $\\LaTeX$."
   ]
  },
  {
   "cell_type": "code",
   "execution_count": 12,
   "metadata": {},
   "outputs": [],
   "source": [
    "import numpy as np\n",
    "import sympy as sp\n",
    "from sympy import init_printing\n",
    "init_printing(use_latex=True)"
   ]
  },
  {
   "cell_type": "markdown",
   "metadata": {},
   "source": [
    "## Variables\n",
    "\n",
    "We will start by setting up symbolic variables for the three variables in our initial condition and then type out the full equation for $\\phi$. We should get a nicely rendered version of our $\\phi$ equation."
   ]
  },
  {
   "cell_type": "code",
   "execution_count": 13,
   "metadata": {},
   "outputs": [
    {
     "data": {
      "image/png": "[encoded data removed]",
      "text/latex": [
       "$$e^{- \\frac{\\left(- 4 t + x - 6.28318530717959\\right)^{2}}{4 \\nu \\left(t + 1\\right)}} + e^{- \\frac{\\left(- 4 t + x\\right)^{2}}{4 \\nu \\left(t + 1\\right)}}$$"
      ],
      "text/plain": [
       "                               2                2 \n",
       " -(-4⋅t + x - 6.28318530717959)      -(-4⋅t + x)  \n",
       " ────────────────────────────────    ─────────────\n",
       "           4⋅ν⋅(t + 1)                4⋅ν⋅(t + 1) \n",
       "ℯ                                 + ℯ             "
      ]
     },
     "execution_count": 13,
     "metadata": {},
     "output_type": "execute_result"
    }
   ],
   "source": [
    "x, nu, t = sp.symbols('x nu t')\n",
    "phi = (sp.exp(-(x - 4 * t)**2 / (4 * nu * (t + 1))) +\n",
    "       sp.exp(-(x - 4 * t - 2 * np.pi)**2 / (4 * nu * (t + 1))))\n",
    "phi"
   ]
  },
  {
   "cell_type": "markdown",
   "metadata": {},
   "source": [
    "This makes evaluating our partial derivative $\\frac{\\partial\\phi}{\\partial x}$ a trivial task"
   ]
  },
  {
   "cell_type": "code",
   "execution_count": 14,
   "metadata": {},
   "outputs": [
    {
     "data": {
      "image/png": "[encoded data removed]",
      "text/latex": [
       "$$- \\frac{e^{- \\frac{\\left(- 4 t + x\\right)^{2}}{4 \\nu \\left(t + 1\\right)}}}{4 \\nu \\left(t + 1\\right)} \\left(- 8 t + 2 x\\right) - \\frac{1}{4 \\nu \\left(t + 1\\right)} \\left(- 8 t + 2 x - 12.5663706143592\\right) e^{- \\frac{\\left(- 4 t + x - 6.28318530717959\\right)^{2}}{4 \\nu \\left(t + 1\\right)}}$$"
      ],
      "text/plain": [
       "                           2                                                  \n",
       "                -(-4⋅t + x)                                      -(-4⋅t + x - \n",
       "                ─────────────                                    ─────────────\n",
       "                 4⋅ν⋅(t + 1)                                               4⋅ν\n",
       "  (-8⋅t + 2⋅x)⋅ℯ                (-8⋅t + 2⋅x - 12.5663706143592)⋅ℯ             \n",
       "- ─────────────────────────── - ──────────────────────────────────────────────\n",
       "          4⋅ν⋅(t + 1)                                      4⋅ν⋅(t + 1)        \n",
       "\n",
       "                 2 \n",
       "6.28318530717959)  \n",
       "───────────────────\n",
       "⋅(t + 1)           \n",
       "                   \n",
       "───────────────────\n",
       "                   "
      ]
     },
     "execution_count": 14,
     "metadata": {},
     "output_type": "execute_result"
    }
   ],
   "source": [
    "phiprime = phi.diff(x)\n",
    "phiprime"
   ]
  },
  {
   "cell_type": "code",
   "execution_count": 15,
   "metadata": {},
   "outputs": [
    {
     "name": "stdout",
     "output_type": "stream",
     "text": [
      "-(-8*t + 2*x)*exp(-(-4*t + x)**2/(4*nu*(t + 1)))/(4*nu*(t + 1)) - (-8*t + 2*x - 12.5663706143592)*exp(-(-4*t + x - 6.28318530717959)**2/(4*nu*(t + 1)))/(4*nu*(t + 1))\n"
     ]
    }
   ],
   "source": [
    "# Use Python's print command to se unrendered version\n",
    "print(phiprime)"
   ]
  },
  {
   "cell_type": "markdown",
   "metadata": {},
   "source": [
    "## Initial Condition\n",
    "\n",
    "Now that we have the Pythonic version of our derivative, we can finish writing out the full initial condition equation and then translate it into usable Python expression. For this, we use the *lambdify* function, which takes a SymPy symbolic equation and turns it into a **callable function**."
   ]
  },
  {
   "cell_type": "code",
   "execution_count": 16,
   "metadata": {},
   "outputs": [
    {
     "name": "stdout",
     "output_type": "stream",
     "text": [
      "-2*nu*(-(-8*t + 2*x)*exp(-(-4*t + x)**2/(4*nu*(t + 1)))/(4*nu*(t + 1)) - (-8*t + 2*x - 12.5663706143592)*exp(-(-4*t + x - 6.28318530717959)**2/(4*nu*(t + 1)))/(4*nu*(t + 1)))/(exp(-(-4*t + x - 6.28318530717959)**2/(4*nu*(t + 1))) + exp(-(-4*t + x)**2/(4*nu*(t + 1)))) + 4\n"
     ]
    }
   ],
   "source": [
    "from sympy.utilities.lambdify import lambdify\n",
    "\n",
    "u = -2 * nu * (phiprime / phi) + 4\n",
    "print(u)"
   ]
  },
  {
   "cell_type": "markdown",
   "metadata": {},
   "source": [
    "### Lambdify\n",
    "\n",
    "To lambdify this expression into a usable function, we tell lambdify which variables to request and the function we want to plug them in to."
   ]
  },
  {
   "cell_type": "code",
   "execution_count": 17,
   "metadata": {},
   "outputs": [
    {
     "name": "stdout",
     "output_type": "stream",
     "text": [
      "3.4917066420644494\n"
     ]
    }
   ],
   "source": [
    "ufunc = lambdify((t, x, nu), u)\n",
    "print(ufunc(1, 4, 3))"
   ]
  },
  {
   "cell_type": "markdown",
   "metadata": {},
   "source": [
    "## Back to Burgers' Equation\n",
    "\n",
    "Now that we have the initial conditions set up, we can proceed and finish setting up the problem. We can generate the plot of the initial condition using our lambdify-ed function."
   ]
  },
  {
   "cell_type": "code",
   "execution_count": 18,
   "metadata": {},
   "outputs": [
    {
     "data": {
      "text/plain": [
       "array([4.        , 4.06283185, 4.12566371, 4.18849556, 4.25132741,\n",
       "       4.31415927, 4.37699112, 4.43982297, 4.50265482, 4.56548668,\n",
       "       4.62831853, 4.69115038, 4.75398224, 4.81681409, 4.87964594,\n",
       "       4.9424778 , 5.00530965, 5.0681415 , 5.13097336, 5.19380521,\n",
       "       5.25663706, 5.31946891, 5.38230077, 5.44513262, 5.50796447,\n",
       "       5.57079633, 5.63362818, 5.69646003, 5.75929189, 5.82212374,\n",
       "       5.88495559, 5.94778745, 6.0106193 , 6.07345115, 6.136283  ,\n",
       "       6.19911486, 6.26194671, 6.32477856, 6.38761042, 6.45044227,\n",
       "       6.51327412, 6.57610598, 6.63893783, 6.70176967, 6.76460125,\n",
       "       6.82742866, 6.89018589, 6.95176632, 6.99367964, 6.72527549,\n",
       "       4.        , 1.27472451, 1.00632036, 1.04823368, 1.10981411,\n",
       "       1.17257134, 1.23539875, 1.29823033, 1.36106217, 1.42389402,\n",
       "       1.48672588, 1.54955773, 1.61238958, 1.67522144, 1.73805329,\n",
       "       1.80088514, 1.863717  , 1.92654885, 1.9893807 , 2.05221255,\n",
       "       2.11504441, 2.17787626, 2.24070811, 2.30353997, 2.36637182,\n",
       "       2.42920367, 2.49203553, 2.55486738, 2.61769923, 2.68053109,\n",
       "       2.74336294, 2.80619479, 2.86902664, 2.9318585 , 2.99469035,\n",
       "       3.0575222 , 3.12035406, 3.18318591, 3.24601776, 3.30884962,\n",
       "       3.37168147, 3.43451332, 3.49734518, 3.56017703, 3.62300888,\n",
       "       3.68584073, 3.74867259, 3.81150444, 3.87433629, 3.93716815,\n",
       "       4.        ])"
      ]
     },
     "execution_count": 18,
     "metadata": {},
     "output_type": "execute_result"
    }
   ],
   "source": [
    "from matplotlib import pyplot\n",
    "%matplotlib inline\n",
    "\n",
    "### Variables\n",
    "\n",
    "nu = 0.07\n",
    "nx = 101\n",
    "dx = 2 * np.pi / (nx - 1)\n",
    "nt = 100\n",
    "dt = dx * nu\n",
    "\n",
    "x = np.linspace(0, 2 * np.pi, nx)\n",
    "un = np.empty(nx)\n",
    "t = 0\n",
    "\n",
    "u = np.asarray([ufunc(t, x0, nu) for x0 in x])\n",
    "u"
   ]
  },
  {
   "cell_type": "code",
   "execution_count": 20,
   "metadata": {},
   "outputs": [
    {
     "data": {
      "image/png": "[encoded data removed]",
      "text/plain": [
       "<matplotlib.figure.Figure at 0x1115964a8>"
      ]
     },
     "metadata": {},
     "output_type": "display_data"
    }
   ],
   "source": [
    "pyplot.figure(figsize=(11, 7), dpi=100)\n",
    "pyplot.plot(x, u, marker='o', lw=2)\n",
    "pyplot.xlim([0, 2 * np.pi])\n",
    "pyplot.ylim([0, 10]);"
   ]
  },
  {
   "cell_type": "markdown",
   "metadata": {},
   "source": [
    "This is definitely not the hat function we've been dealing with until now. It is called a \"saw-tooth function\"."
   ]
  },
  {
   "cell_type": "markdown",
   "metadata": {},
   "source": [
    "## Periodic Boundary Conditions\n",
    "\n",
    "One of the big differences between Step 4 and the previous lessons is the use of *periodic* boundary conditions. If you experiment with Steps 1 and 2 and make the simulation run longer (by increasing `nt`) you will notice that the wave will keep moving to the right until it no longer even shows up in the plot.\n",
    "\n",
    "With periodic boundary conditions, when a point gets to the right-hand side of the frame, it *wraps around* back to the front of the frame.\n",
    "\n",
    "Recall the discretization that we worked out at the beginning of this notebook:\n",
    "\n",
    "$$\n",
    "u_i^{n+1} = u_i^n - u_i^n \\frac{\\Delta t}{\\Delta x} (u_i^n - u_{i-1}^n) + \\nu \\frac{\\Delta t}{\\Delta x^2}(u_{i+1}^n - 2u_i^n + u_{i-1}^n)\n",
    "$$\n",
    "\n",
    "What does $u_{i+1}^n$ *mean* when $i$ is already at the end of the frame?"
   ]
  },
  {
   "cell_type": "code",
   "execution_count": 21,
   "metadata": {},
   "outputs": [],
   "source": [
    "for n in range(nt):\n",
    "    un = np.copy(u)\n",
    "    for i in range(1, nx-1):\n",
    "        u[i] = un[i] - un[i] * dt / dx *(un[i] - un[i-1]) + nu * dt / dx**2 *\\\n",
    "                (un[i+1] - 2 * un[i] + un[i-1])\n",
    "    u[0] = un[0] - un[0] * dt / dx * (un[0] - un[-2]) + nu * dt / dx**2 *\\\n",
    "                (un[1] - 2 * un[0] + un[-2])\n",
    "    u[-1] = u[0]\n",
    "    \n",
    "u_analytical = np.asarray([ufunc(nt * dt, xi, nu) for xi in x])        "
   ]
  },
  {
   "cell_type": "code",
   "execution_count": 23,
   "metadata": {},
   "outputs": [
    {
     "data": {
      "image/png": "[encoded data removed]",
      "text/plain": [
       "<matplotlib.figure.Figure at 0x1115c14a8>"
      ]
     },
     "metadata": {},
     "output_type": "display_data"
    }
   ],
   "source": [
    "pyplot.figure(figsize=(11, 7), dpi=100)\n",
    "pyplot.plot(x, u, marker='o', lw=2, label='Computational')\n",
    "pyplot.plot(x, u_analytical, label='Analytical')\n",
    "pyplot.xlim([0, 2 * np.pi])\n",
    "pyplot.ylim([0, 10])\n",
    "pyplot.legend();"
   ]
  }
 ],
 "metadata": {
  "kernelspec": {
   "display_name": "Python 3",
   "language": "python",
   "name": "python3"
  },
  "language_info": {
   "codemirror_mode": {
    "name": "ipython",
    "version": 3
   },
   "file_extension": ".py",
   "mimetype": "text/x-python",
   "name": "python",
   "nbconvert_exporter": "python",
   "pygments_lexer": "ipython3",
   "version": "3.6.4"
  }
 },
 "nbformat": 4,
 "nbformat_minor": 2
}
