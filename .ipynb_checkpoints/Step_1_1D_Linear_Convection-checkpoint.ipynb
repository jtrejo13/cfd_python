{
 "cells": [
  {
   "cell_type": "markdown",
   "metadata": {},
   "source": [
    "# Step 1: 1-D Linear Convection\n",
    "\n",
    "The 1-D Linear Convection equation is the simplest, most basic model that can be used to learn something about CFD.\n",
    "\n",
    "Here it is:\n",
    "\n",
    "$$\n",
    "\\frac{\\partial u}{\\partial t} + c \\frac{\\partial u}{\\partial x} = 0\n",
    "$$\n",
    "\n",
    "\n",
    "With given initial conditions (understood as a *wave*), the equation represents the propagation of that initial *wave* with speed $c$, without change of shape. Let the initial condition be $u(x,0) = u_0(x)$. Then the exact solution of the equation is $u(x,t) = u_0(x - ct)$.\n",
    "\n",
    "We discretize this equation in both space and time, using the Forward Difference scheme for the time derivative and the Backward Difference scheme for the space derivative. Consider discretizing the spatial coordinate $x$ into points that we index from $i=0$ to $N$, and stepping in discrete time intervals of size $\\Delta t$.\\\n",
    "\n",
    "From the definition of a derivative (and simply removing the limit), we know that:\n",
    "\n",
    "$$\n",
    "\\frac{\\partial u}{\\partial x}\\approx \\frac{u(x+\\Delta x)-u(x)}{\\Delta x}\n",
    "$$\n",
    "\n",
    "Our discrete equation is:\n",
    "\n",
    "$$\n",
    "\\frac{u_i^{n+1}-u_i^n}{\\Delta t} + c \\frac{u_i^n - u_{i-1}^n}{\\Delta x} = 0 \n",
    "$$\n",
    "\n",
    "Where $n$ and $n + 1$ are two consecutive steps in time, while $i-1$ and $i$ are two neighboring points of the discretized $x$ coordinate. If there are given initial conditions, then the only unknown in this discretization is $u_i^{n+1}$. We can solve for our unknown to get an equation that allows us to advance in time, as follows:\n",
    "\n",
    "$$\n",
    "u_i^{n+1} = u_i^n - c \\frac{\\Delta t}{\\Delta x}(u_i^n - u_{i-1}^n)\n",
    "$$"
   ]
  },
  {
   "cell_type": "markdown",
   "metadata": {},
   "source": [
    "## Imports"
   ]
  },
  {
   "cell_type": "code",
   "execution_count": 2,
   "metadata": {},
   "outputs": [],
   "source": [
    "import numpy as np\n",
    "from matplotlib import pyplot\n",
    "import time, sys"
   ]
  },
  {
   "cell_type": "code",
   "execution_count": 3,
   "metadata": {},
   "outputs": [],
   "source": [
    "# this makes matplotlib plots appear in the notebook\n",
    "%matplotlib inline"
   ]
  },
  {
   "cell_type": "markdown",
   "metadata": {},
   "source": [
    "## Variables"
   ]
  },
  {
   "cell_type": "code",
   "execution_count": 53,
   "metadata": {},
   "outputs": [],
   "source": [
    "nx = 41           # Number of grid points\n",
    "dx = 2 / (nx - 1) # Distance between any pair of adjacent grid points\n",
    "nt = 25           # Number of timesteps to calculate\n",
    "dt = 0.025        # Amount of time each timestep covers (delta t)\n",
    "c  = 1            # Wavespeed"
   ]
  },
  {
   "cell_type": "markdown",
   "metadata": {},
   "source": [
    "## Initial Conditions\n",
    "\n",
    "The initial velocity $u_0$ is given as $u = 2$ in the interval $0.5 \\leq x \\leq 1$ and $u = 1$ everywhere else in $(0,2)$ (i.e a hat function)"
   ]
  },
  {
   "cell_type": "code",
   "execution_count": 54,
   "metadata": {},
   "outputs": [
    {
     "name": "stdout",
     "output_type": "stream",
     "text": [
      "[1. 1. 1. 1. 1. 1. 1. 1. 1. 2. 2. 2. 2. 2. 2. 2. 2. 2. 2. 2. 1. 1. 1. 1.\n",
      " 1. 1. 1. 1. 1. 1. 1. 1. 1. 1. 1. 1. 1. 1. 1. 1. 1.]\n"
     ]
    }
   ],
   "source": [
    "u = np.ones(nx) # u is the velocity vector\n",
    "u[int(0.5 // dx):int(1 // dx + 1)] = 2 # setting u = 2 between 0.5 and 1\n",
    "print(u)"
   ]
  },
  {
   "cell_type": "code",
   "execution_count": 55,
   "metadata": {},
   "outputs": [
    {
     "data": {
      "text/plain": [
       "[<matplotlib.lines.Line2D at 0x112ec1208>]"
      ]
     },
     "execution_count": 55,
     "metadata": {},
     "output_type": "execute_result"
    },
    {
     "data": {
      "image/png": "[encoded data removed]",
      "text/plain": [
       "<matplotlib.figure.Figure at 0x112e17400>"
      ]
     },
     "metadata": {},
     "output_type": "display_data"
    }
   ],
   "source": [
    "pyplot.plot(np.linspace(0, 2, nx), u)"
   ]
  },
  {
   "cell_type": "markdown",
   "metadata": {},
   "source": [
    "## Discretization\n",
    "\n",
    "Now it's time to implement the discretization of the convection equation using a finite-difference scheme.\n",
    "\n",
    "For every element of our array u, we need to perform the operation: \n",
    "\n",
    "$$\n",
    "u_i^{n+1} = u_i^n - c \\frac{\\Delta t}{\\Delta x}(u_i^n-u_{i-1}^n)\n",
    "$$\n",
    "\n",
    "We will store the result in a new (temporary) array *un*, which will be the solution $u$ for the next time-step. We will repeat this operation for as may time-steps as we specify and then we can see how far the wave has convected.\n",
    "\n",
    "Start by initializing *un* to hold the values we calculate for the $n + 1$ timestep.\n",
    "\n",
    "Then, we may think we have two iterative operations: one in space and one in time (we'll learn differently later), so we'll start by nesting one loop inside the other.\n",
    "\n",
    "**Note:** When we write `for i in range(1, nx)` we are skipping the first element (the zero-th element). *Why?*"
   ]
  },
  {
   "cell_type": "code",
   "execution_count": 56,
   "metadata": {},
   "outputs": [],
   "source": [
    "un = np.ones(nx)\n",
    "\n",
    "for n in range(nt): \n",
    "    un = u.copy()\n",
    "    for i in range(1, nx):\n",
    "        u[i] = un[i] - c * dt / dx * (un[i] - un[i - 1])"
   ]
  },
  {
   "cell_type": "markdown",
   "metadata": {},
   "source": [
    "**Note:** The code written as above is quite inefficient, and there are better ways to write this, Python-style."
   ]
  },
  {
   "cell_type": "code",
   "execution_count": 57,
   "metadata": {},
   "outputs": [
    {
     "data": {
      "text/plain": [
       "[<matplotlib.lines.Line2D at 0x112f2a160>]"
      ]
     },
     "execution_count": 57,
     "metadata": {},
     "output_type": "execute_result"
    },
    {
     "data": {
      "image/png": "[encoded data removed]",
      "text/plain": [
       "<matplotlib.figure.Figure at 0x112eb38d0>"
      ]
     },
     "metadata": {},
     "output_type": "display_data"
    }
   ],
   "source": [
    "pyplot.plot(np.linspace(0 , 2, nx), u)"
   ]
  }
 ],
 "metadata": {
  "kernelspec": {
   "display_name": "Python 3",
   "language": "python",
   "name": "python3"
  },
  "language_info": {
   "codemirror_mode": {
    "name": "ipython",
    "version": 3
   },
   "file_extension": ".py",
   "mimetype": "text/x-python",
   "name": "python",
   "nbconvert_exporter": "python",
   "pygments_lexer": "ipython3",
   "version": "3.6.4"
  }
 },
 "nbformat": 4,
 "nbformat_minor": 2
}
