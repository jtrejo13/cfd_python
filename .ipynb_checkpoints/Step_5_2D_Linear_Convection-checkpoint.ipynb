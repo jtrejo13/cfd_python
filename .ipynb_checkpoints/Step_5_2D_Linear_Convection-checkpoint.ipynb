{
 "cells": [
  {
   "cell_type": "markdown",
   "metadata": {},
   "source": [
    "# Step 5: 2-D Linear Convection\n",
    "\n",
    "Up to now, all of our work has been in one spatial dimension. We can learn a lot in just 1D, but let's grow up to flatland: two dimensions.\n",
    "\n",
    "In the following exercises, we will extend the first four steps to 2D. To extend the 1D finite-difference formulas to partial derivatives in 2D or 3D, just apply the definition: a partial derivative with respect to $x$ is the variation in the $x$ direction *at constant* $y$\n",
    "\n",
    "In 2D space, a rectangular (uniform) grid is defined by the points with coordinates:\n",
    "\n",
    "$$\n",
    "x_i = x_0 + i\\Delta x\n",
    "$$\n",
    "\n",
    "$$\n",
    "y_i = y_0 + i\\Delta y\n",
    "$$\n",
    "\n",
    "Now, define $u_{ij} = u(x_i, y_i)$ and apply the finite-difference formulas on either variable $x,y$ *acting separately* on the $i$ and $j$ indices. All derivatives are based on the 2D Taylor expansion of a mesh point value around $u_{ij}$.\n",
    "\n",
    "Hence, for a first-order partial derivative in the $x$-direction, a fininte-difference formula is:\n",
    "\n",
    "$$\n",
    "\\frac{\\partial u}{\\partial x}\\bigg|_{ij} = \\frac{u_{i+1j}-u_{ij}}{\\Delta x} + \\mathcal{O}(\\Delta x)\n",
    "$$\n",
    "\n",
    "and similarly in the y direction. Thus, we can write backward-difference, forward-difference or central-difference formulas for steps 5 to 12."
   ]
  },
  {
   "cell_type": "markdown",
   "metadata": {},
   "source": [
    "## Analysis\n",
    "\n",
    "The PDE governing 2-D Linear Convection is written as:\n",
    "\n",
    "$$\n",
    "\\frac{\\partial u{\\partial t} + c\\frac{\\partial u}{\\partial x} + c\\frac{\\partial u}{\\partial y} = 0\n",
    "$$\n",
    "\n",
    "This is the excact same form as with 1-D Linear Convection, except that we now have two spatial dimensions to account for as we step forward in time.\n",
    "\n",
    "Again, the timestep will be discretized as a forward difference and both spatial steps will be discretized as backward differences.\n",
    "\n",
    "With 1-D implementations, we used $i$ subscripts to denote movement in space (e.g $u_i^n - u_{i-1}^n). Now that we have two dimensions to account for, we need to add a second subscript, $j$, to account for all the information in the regime.\n",
    "\n",
    "Here, we'll again use $i$ as the index for our $x$ values, and we'll add the $j$ "
   ]
  },
  {
   "cell_type": "code",
   "execution_count": null,
   "metadata": {},
   "outputs": [],
   "source": []
  }
 ],
 "metadata": {
  "kernelspec": {
   "display_name": "Python 3",
   "language": "python",
   "name": "python3"
  },
  "language_info": {
   "codemirror_mode": {
    "name": "ipython",
    "version": 3
   },
   "file_extension": ".py",
   "mimetype": "text/x-python",
   "name": "python",
   "nbconvert_exporter": "python",
   "pygments_lexer": "ipython3",
   "version": "3.6.4"
  }
 },
 "nbformat": 4,
 "nbformat_minor": 2
}
