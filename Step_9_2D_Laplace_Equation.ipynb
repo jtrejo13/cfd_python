{
 "cells": [
  {
   "cell_type": "markdown",
   "metadata": {},
   "source": [
    "# Step 9: 2D Laplace Equation\n",
    "\n",
    "Here is the Laplace equation in 2D:\n",
    "\n",
    "$$\n",
    "\\frac{\\partial^2p}{\\partial x^2} + \\frac{\\partial^2p}{\\partial y^2} = 0\n",
    "$$\n",
    "\n",
    "We know how to discretize a 2nd order derivative. But think about this for a minute: Laplace's equation has the features typical of diffusion phenomena. For this reason, it has to be discretized with *central differences*, so that the discretization is consistent with the physics we want to simulate.\n",
    "\n",
    "The discretized equation is:\n",
    "\n",
    "$$\n",
    "\\frac{p_{i+1, j}^n - 2p_{i,j}^n + p_{i-1,j}^n}{\\Delta x^2} + \\frac{p_{i,j+1}^n - 2p_{i,j}^n + p_{i, j-1}^n}{\\Delta y^2} = 0\n",
    "$$\n",
    "\n",
    "Notice that the Laplace Equation does not have a time dependence, i.e. there is no $p^{n+1}. Instead of tracking a wave through time (like in the previous steps), the laplace equation calculates the equilibrium state of a system under the supplied boundary conditions.\n",
    "\n",
    "If you have taken a coursework in Heat Transfer, you will recognize the Laplace Equation as the steady-state heat equation.\n",
    "\n",
    "Instead of calculating where the system will be at some time $t$, we will iteratively solve for $p_{ij}^n$ until it meets a condition that we specify. The system will reach equilibrium only as the number of iterations tends to $\\infty$, but we can approximate the equilibrium state by iterating until the change between one iteration and the next is *very* small.\n",
    "\n",
    "Rearranging the discretized equation to solve for $p_{ij}^n$.\n",
    "\n",
    "$$\n",
    "p_{i,j}^n = \\frac{\\Delta y^2(p_{i+1,j}^n+p_{i-1,j}^n)+\\Delta x^2(p_{i,j+1}^n + p_{i,j-1}^n)}{2(\\Delta x^2 + \\Delta y^2)}\n",
    "$$\n",
    "\n",
    "Using second-oder central-difference schemes in both directions is the most widely applied method for the Laplace operator. It is also known as the **five-point difference operator**, alluding to its stencil.\n",
    "\n",
    "We are going to solve Laplace's equation numerically by assuming an initial state of $p = 0$ everywhere. Then we add a boundary conditions as follows:\n",
    "\n",
    "$$\n",
    "p = 0 \\text{ at } x = 0\n",
    "$$\n",
    "\n",
    "$$\n",
    "p = y \\text{ at } x = 2\n",
    "$$\n",
    "\n",
    "$$\n",
    "\\frac{\\partial p}{\\partial y} = 0 \\text{ at } y = 0, 1\n",
    "$$\n",
    "\n",
    "Under these conditions, there is an analytical solution for Laplace's equation:\n",
    "\n",
    "$$\n",
    "p(x,y) = \\frac{x}{4} - 4 \\sum_{n=1, odd}^{\\infty} \\frac{1}{(n\\pi)^2\\sinh2n\\pi}\\sinh n\\pi x \\cos n\\pi y\n",
    "$$\n",
    "\n"
   ]
  },
  {
   "cell_type": "code",
   "execution_count": null,
   "metadata": {},
   "outputs": [],
   "source": []
  }
 ],
 "metadata": {
  "kernelspec": {
   "display_name": "Python 3",
   "language": "python",
   "name": "python3"
  },
  "language_info": {
   "codemirror_mode": {
    "name": "ipython",
    "version": 3
   },
   "file_extension": ".py",
   "mimetype": "text/x-python",
   "name": "python",
   "nbconvert_exporter": "python",
   "pygments_lexer": "ipython3",
   "version": "3.6.4"
  }
 },
 "nbformat": 4,
 "nbformat_minor": 2
}
