{
 "cells": [
  {
   "cell_type": "markdown",
   "metadata": {},
   "source": [
    "# Step 3: Diffusion Equation in 1-D\n",
    "\n",
    "The one-dimensional diffusion equation is:\n",
    "\n",
    "$$\n",
    "\\frac{\\partial u}{\\partial t} = \\nu \\frac{\\partial^2u}{\\partial x^2}\n",
    "$$\n",
    "\n",
    "The first thing you should notice is that - unlike the previous two simple equations we have studied - this equation has a second-order derivative. We first need to learn what to do with it!"
   ]
  },
  {
   "cell_type": "markdown",
   "metadata": {},
   "source": [
    "## Discretizing $\\frac{\\partial^2u}{\\partial x^2}$\n",
    "\n",
    "The second-order derivative can be represented geometrically as the line tangent to the curve given by the first derivative. We will discretize the second-order derivative with a Central Difference scheme: a combination of Forward Difference and Backward Difference on the first derivative. Consider the Taylor expansion of $u_{i+1}$ and $u_{i-1}$ around $u_i$:\n",
    "\n",
    "$$\n",
    "u_{i+1} = u_i + \\Delta x \\frac{\\partial u}{\\partial x}\\bigg|_i + \\frac{\\Delta x^2}{2} \\frac{\\partial ^2 u}{\\partial x^2}\\bigg|_i + \\frac{\\Delta x^3}{3!} \\frac{\\partial ^3 u}{\\partial x^3}\\bigg|_i + O(\\Delta x^4)\n",
    "$$\n",
    "\n",
    "$$\n",
    "u_{i-1} = u_i - \\Delta x \\frac{\\partial u}{\\partial x}\\bigg|_i + \\frac{\\Delta x^2}{2} \\frac{\\partial ^2 u}{\\partial x^2}\\bigg|_i - \\frac{\\Delta x^3}{3!} \\frac{\\partial ^3 u}{\\partial x^3}\\bigg|_i + O(\\Delta x^4)\n",
    "$$\n",
    "\n",
    "If we add these two expansion, you can see that the odd-numbered derivative terms will cancel each other out. If we neglect any terms of $O(\\Delta x^4) or higher (and really, those are very small), then we can rearrange the sum of these two expansions to solve for our second-derivative.\n",
    "\n",
    "$$\n",
    "u_{i+1} + u_{i-1} = 2u_i + \\Delta x^2\\frac{\\partial^2u}{\\partial x^2}\\bigg|_i + O(\\Delta x^4)\n",
    "$$\n",
    "\n",
    "Then rearrange to solve for $\\frac{\\partial^2u}{\\partial x^2}\\bigg|_i$ and the result is:\n",
    "\n",
    "$$\n",
    "\\frac{\\partial ^2 u}{\\partial x^2}=\\frac{u_{i+1}-2u_{i}+u_{i-1}}{\\Delta x^2} + O(\\Delta x^2)\n",
    "$$\n"
   ]
  },
  {
   "cell_type": "markdown",
   "metadata": {},
   "source": [
    "## Back to Step 3\n",
    "\n",
    "We can now write the discretized version of the diffusion equation in 1D:\n",
    "\n",
    "$$\n",
    "\\frac{u_{i}^{n+1}-u_{i}^{n}}{\\Delta t}=\\nu\\frac{u_{i+1}^{n}-2u_{i}^{n}+u_{i-1}^{n}}{\\Delta x^2}\n",
    "$$\n",
    "\n",
    "As before, we notice that once we have an initial condition, the only unknown is $u^{n+1}_i$, so we re-arrange the equation solving for our unknown:\n",
    "\n",
    "$$\n",
    "u^{n+1}_1 = u^n_i + \\frac{\\nu\\Delta t}{\\Delta x^2}(u^n_{i+1} - 2u^n_i + u^n_{i-1})\n",
    "$$\n",
    "\n",
    "The above discrete equation allows us to write a program to advance a solution in time. But we need an initial condition - the hat function. So, at $t = 0$, $u = 2$ in the interval $0.5 \\leq x \\leq 1$ and $u = 1$ everywhere else.\n"
   ]
  },
  {
   "cell_type": "markdown",
   "metadata": {},
   "source": [
    "## Code"
   ]
  },
  {
   "cell_type": "code",
   "execution_count": 11,
   "metadata": {},
   "outputs": [
    {
     "data": {
      "text/plain": [
       "[<matplotlib.lines.Line2D at 0x107281588>]"
      ]
     },
     "execution_count": 11,
     "metadata": {},
     "output_type": "execute_result"
    },
    {
     "data": {
      "image/png": "[encoded data removed]",
      "text/plain": [
       "<matplotlib.figure.Figure at 0x1071e7ef0>"
      ]
     },
     "metadata": {},
     "output_type": "display_data"
    }
   ],
   "source": [
    "# -------\n",
    "# Imports\n",
    "# -------\n",
    "import numpy as np\n",
    "from matplotlib import pyplot\n",
    "%matplotlib inline\n",
    "\n",
    "# ---------\n",
    "# Variables\n",
    "# ---------\n",
    "\n",
    "nx = 41            # Number of grid points\n",
    "dx = 2 / (nx - 1)  # Distance between grid points\n",
    "nt = 20            # Number of time steps\n",
    "nu = 0.3           # Viscosity (nu)\n",
    "sigma = 0.2        \n",
    "dt = sigma * dx**2 / nu # Size of time step\n",
    "\n",
    "# ------------\n",
    "# Initial Cond\n",
    "# ------------\n",
    "\n",
    "u = np.ones(nx)\n",
    "u[int(0.5 / dx):int(1 / dx + 1)] = 2\n",
    "\n",
    "un = np.ones(nx)\n",
    "\n",
    "for n in range(nt):\n",
    "    un = np.copy(u)\n",
    "    for i in range(1, nx - 1):\n",
    "        u[i] = un[i] + nu * dt / (dx**2) * (un[i+1] - 2 * un[i] + un[i-1])\n",
    "\n",
    "pyplot.plot(np.linspace(0, 2, nx), u)"
   ]
  },
  {
   "cell_type": "code",
   "execution_count": null,
   "metadata": {},
   "outputs": [],
   "source": []
  }
 ],
 "metadata": {
  "kernelspec": {
   "display_name": "Python 3",
   "language": "python",
   "name": "python3"
  },
  "language_info": {
   "codemirror_mode": {
    "name": "ipython",
    "version": 3
   },
   "file_extension": ".py",
   "mimetype": "text/x-python",
   "name": "python",
   "nbconvert_exporter": "python",
   "pygments_lexer": "ipython3",
   "version": "3.6.4"
  }
 },
 "nbformat": 4,
 "nbformat_minor": 2
}
