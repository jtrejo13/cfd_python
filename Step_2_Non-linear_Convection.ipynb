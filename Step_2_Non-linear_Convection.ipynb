{
 "cells": [
  {
   "cell_type": "markdown",
   "metadata": {},
   "source": [
    "# Step 2: Non-linear Convection\n",
    "\n",
    "Now we're going to implement non-linear convection using the same methods as in step 1. The 1D convection equation is:\n",
    "\n",
    "$$\n",
    "\\frac{\\partial u}{\\partial t} + u \\frac{\\partial u}{\\partial x} = 0\n",
    "$$\n",
    "\n",
    "Instead of a constant factor $c$ multiplying the second term, now we have the solution $u$ multiplying it. Thus, the second term of the equation is now *non-linear*. We're going to use the same discretization as in Step1 - forward difference in time and backward difference in space. Here is the discretized equation:\n",
    "\n",
    "$$\n",
    "\\frac{u_i^{n+1}-u_i^n}{\\Delta t} + u_i^n \\frac{u_i^n - u_{i-1}^n}{\\Delta x} = 0 \n",
    "$$\n",
    "\n",
    "Solving for the only unknown term, $u_i^{n+1}, yields:\n",
    "\n",
    "$$\n",
    "u_i^{n+1} = u_i^n - u_i^n \\frac{\\Delta t}{\\Delta x}(u_i^n - u_{i-1}^n)\n",
    "$$\n",
    "\n",
    "As before, we will declare some variables that determine the discretization in space and time. Then, we create the initial condition $u_0$ by initializing the array for the solution using $u = 2$ @ $0.5 \\leq x \\leq 1$ and $u = 1$ everywhere else in $(0,2)$(i.e, a hat function)\n"
   ]
  },
  {
   "cell_type": "markdown",
   "metadata": {},
   "source": [
    "## Imports"
   ]
  },
  {
   "cell_type": "code",
   "execution_count": 1,
   "metadata": {},
   "outputs": [],
   "source": [
    "import numpy as np\n",
    "from matplotlib import pyplot\n",
    "%matplotlib inline"
   ]
  },
  {
   "cell_type": "markdown",
   "metadata": {},
   "source": [
    "## Variables and Initial Conditions"
   ]
  },
  {
   "cell_type": "code",
   "execution_count": 2,
   "metadata": {},
   "outputs": [],
   "source": [
    "nx = 41            # Number of grid points\n",
    "dx = 2 / (nx - 1)  # Distance between any pair of grid points\n",
    "nt = 20            # Number of time steps\n",
    "dt = 0.025         # Time step size\n",
    "\n",
    "\n",
    "u = np.ones(nx) # Initialize velocity vector (u) with every value equal to 1\n",
    "u[int(.5 / dx):int(1 / dx + 1)] = 2 # Set u = 2 between 0.5 and 1\n",
    "\n",
    "un = np.ones(nx)"
   ]
  },
  {
   "cell_type": "markdown",
   "metadata": {},
   "source": [
    "## Discretization"
   ]
  },
  {
   "cell_type": "code",
   "execution_count": 3,
   "metadata": {},
   "outputs": [
    {
     "data": {
      "text/plain": [
       "[<matplotlib.lines.Line2D at 0x110bf8588>]"
      ]
     },
     "execution_count": 3,
     "metadata": {},
     "output_type": "execute_result"
    },
    {
     "data": {
      "image/png": "[encoded data removed]",
      "text/plain": [
       "<matplotlib.figure.Figure at 0x110b99080>"
      ]
     },
     "metadata": {},
     "output_type": "display_data"
    }
   ],
   "source": [
    "for n in range(nt):\n",
    "    un = u.copy()\n",
    "    for i in range(1, nx):\n",
    "        u[i] = un[i] - un[i] * dt / dx * (un[i] - un[i - 1])\n",
    "        \n",
    "pyplot.plot(np.linspace(0, 2, nx), u)"
   ]
  },
  {
   "cell_type": "code",
   "execution_count": null,
   "metadata": {},
   "outputs": [],
   "source": []
  }
 ],
 "metadata": {
  "kernelspec": {
   "display_name": "Python 3",
   "language": "python",
   "name": "python3"
  },
  "language_info": {
   "codemirror_mode": {
    "name": "ipython",
    "version": 3
   },
   "file_extension": ".py",
   "mimetype": "text/x-python",
   "name": "python",
   "nbconvert_exporter": "python",
   "pygments_lexer": "ipython3",
   "version": "3.6.4"
  }
 },
 "nbformat": 4,
 "nbformat_minor": 2
}
